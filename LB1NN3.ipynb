{
  "cells": [
    {
      "cell_type": "code",
      "execution_count": 1,
      "metadata": {
        "id": "5YeYwbeKgurR"
      },
      "outputs": [],
      "source": [
        "import pandas as pd\n",
        "import numpy as np\n",
        "from sklearn.model_selection import train_test_split\n",
        "from sklearn.preprocessing import StandardScaler\n",
        "from sklearn.metrics import mean_squared_error, mean_absolute_error, r2_score\n",
        "import tensorflow as tf\n",
        "from tensorflow.keras.models import Sequential\n",
        "from tensorflow.keras.layers import Dense\n",
        "import matplotlib.pyplot as plt"
      ]
    },
    {
      "cell_type": "code",
      "execution_count": 2,
      "metadata": {
        "colab": {
          "base_uri": "https://localhost:8080/"
        },
        "id": "9eToaYceE0IH",
        "outputId": "46a0d89a-ca8f-411e-8806-1d34e8f833be"
      },
      "outputs": [
        {
          "output_type": "stream",
          "name": "stdout",
          "text": [
            "Mounted at /content/drive\n"
          ]
        }
      ],
      "source": [
        "from google.colab import drive\n",
        "drive.mount('/content/drive')"
      ]
    },
    {
      "cell_type": "code",
      "execution_count": 3,
      "metadata": {
        "colab": {
          "base_uri": "https://localhost:8080/"
        },
        "id": "Ml8Tv8VNE0II",
        "outputId": "02103c5d-e71e-4e2f-aca5-647e6c4553cb"
      },
      "outputs": [
        {
          "output_type": "stream",
          "name": "stderr",
          "text": [
            "<ipython-input-3-23ea9327a976>:1: DtypeWarning: Columns (30,56,96,114) have mixed types. Specify dtype option on import or set low_memory=False.\n",
            "  data = pd.read_csv('/content/drive/MyDrive/Datasets/DS_2019_public.csv', encoding='ISO-8859-1')\n"
          ]
        }
      ],
      "source": [
        "data = pd.read_csv('/content/drive/MyDrive/Datasets/DS_2019_public.csv', encoding='ISO-8859-1')"
      ]
    },
    {
      "cell_type": "code",
      "execution_count": 4,
      "metadata": {
        "colab": {
          "base_uri": "https://localhost:8080/"
        },
        "id": "7Zxg3U7YE0II",
        "outputId": "a8a443e0-c3c0-4f91-a9ad-886ff6dc7065"
      },
      "outputs": [
        {
          "output_type": "stream",
          "name": "stdout",
          "text": [
            "Column DOLELCOL contains non-numeric values\n",
            "Column DOLFOSPH contains non-numeric values\n",
            "Column DOLELSPH contains non-numeric values\n",
            "Column DOLNGWTH contains non-numeric values\n",
            "Column CUFEETNGOTH contains non-numeric values\n",
            "Column KWHOTH contains non-numeric values\n",
            "Column CUFEETNGWTH contains non-numeric values\n",
            "Column DOLELRFG contains non-numeric values\n"
          ]
        }
      ],
      "source": [
        "for col in data.columns:\n",
        "    if data[col].dtype == 'object':\n",
        "        for val in data[col]:\n",
        "            if isinstance(val, str) and not val.isnumeric():\n",
        "                print(f\"Column {col} contains non-numeric values\")\n",
        "                break"
      ]
    },
    {
      "cell_type": "code",
      "execution_count": 5,
      "metadata": {
        "id": "5w9dUrMBE0IJ"
      },
      "outputs": [],
      "source": [
        "numeric_cols = data.select_dtypes(include='number').columns"
      ]
    },
    {
      "cell_type": "code",
      "execution_count": 6,
      "metadata": {
        "id": "JT8JCQ8TE0IJ"
      },
      "outputs": [],
      "source": [
        "data = data[numeric_cols]\n",
        "data = data.dropna()"
      ]
    },
    {
      "cell_type": "code",
      "execution_count": 7,
      "metadata": {
        "id": "1zfXj3ouE0IJ"
      },
      "outputs": [],
      "source": [
        "target = 'TOTALDOL'"
      ]
    },
    {
      "cell_type": "code",
      "execution_count": 8,
      "metadata": {
        "id": "WTkYgHZ8E0IK"
      },
      "outputs": [],
      "source": [
        "X = data.drop(target, axis=1)\n",
        "y = data[target]"
      ]
    },
    {
      "cell_type": "code",
      "execution_count": 9,
      "metadata": {
        "id": "yKcY3-gZE0IK"
      },
      "outputs": [],
      "source": [
        "X_train, X_test, y_train, y_test = train_test_split(X, y, test_size=0.2, random_state=42)\n",
        "X_train, X_val, y_train, y_val = train_test_split(X_train, y_train, test_size=0.25, random_state=42)"
      ]
    },
    {
      "cell_type": "code",
      "execution_count": 10,
      "metadata": {
        "id": "9o0UIg-hE0IL"
      },
      "outputs": [],
      "source": [
        "scaler = StandardScaler()\n",
        "X_train = scaler.fit_transform(X_train)\n",
        "X_val = scaler.transform(X_val)\n",
        "X_test = scaler.transform(X_test)"
      ]
    },
    {
      "cell_type": "code",
      "execution_count": 11,
      "metadata": {
        "id": "EptOmTfjE0IL"
      },
      "outputs": [],
      "source": [
        "def train_regression_model(layers, activations, optimizer):\n",
        "    model = Sequential()\n",
        "    for i, (layer, activation) in enumerate(zip(layers, activations)):\n",
        "        if i == 0:\n",
        "            model.add(Dense(layer, activation=activation, input_dim=X_train.shape[1]))\n",
        "        else:\n",
        "            model.add(Dense(layer, activation=activation))\n",
        "    model.add(Dense(1))\n",
        "\n",
        "    model.compile(optimizer=optimizer, loss='mse')\n",
        "\n",
        "    history = model.fit(X_train, y_train, epochs=10, batch_size=32, verbose=0, \n",
        "                        validation_data=(X_val, y_val), callbacks=\n",
        "                        [tf.keras.callbacks.EarlyStopping(monitor='val_loss', patience=10)])\n",
        "\n",
        "    return model, history"
      ]
    },
    {
      "cell_type": "code",
      "execution_count": 12,
      "metadata": {
        "id": "4SMNqW0CE0IM"
      },
      "outputs": [],
      "source": [
        "layer_options = [[16, 8], [32, 16], [64, 32]]\n",
        "activation_options = [['relu', 'relu'], ['tanh', 'tanh'], ['relu', 'tanh']]\n",
        "optimizer_options = ['adam', 'rmsprop', 'sgd']"
      ]
    },
    {
      "cell_type": "code",
      "execution_count": 13,
      "metadata": {
        "colab": {
          "base_uri": "https://localhost:8080/"
        },
        "id": "91uAWaRnE0IM",
        "outputId": "db538f6f-3d1b-4699-dc13-27825be685c4"
      },
      "outputs": [
        {
          "output_type": "stream",
          "name": "stdout",
          "text": [
            "68/68 [==============================] - 0s 1ms/step\n",
            "68/68 [==============================] - 0s 1ms/step\n",
            "68/68 [==============================] - 0s 1ms/step\n",
            "68/68 [==============================] - 0s 2ms/step\n",
            "68/68 [==============================] - 0s 1ms/step\n",
            "68/68 [==============================] - 0s 1ms/step\n",
            "68/68 [==============================] - 0s 1ms/step\n",
            "68/68 [==============================] - 0s 1ms/step\n",
            "68/68 [==============================] - 0s 2ms/step\n",
            "68/68 [==============================] - 0s 1ms/step\n",
            "68/68 [==============================] - 0s 1ms/step\n",
            "68/68 [==============================] - 0s 1ms/step\n",
            "68/68 [==============================] - 0s 1ms/step\n",
            "68/68 [==============================] - 0s 2ms/step\n",
            "68/68 [==============================] - 0s 1ms/step\n",
            "68/68 [==============================] - 0s 1ms/step\n",
            "68/68 [==============================] - 0s 1ms/step\n",
            "68/68 [==============================] - 0s 2ms/step\n",
            "68/68 [==============================] - 0s 1ms/step\n",
            "68/68 [==============================] - 0s 1ms/step\n",
            "68/68 [==============================] - 0s 1ms/step\n",
            "68/68 [==============================] - 0s 1ms/step\n",
            "68/68 [==============================] - 0s 1ms/step\n",
            "68/68 [==============================] - 0s 1ms/step\n",
            "68/68 [==============================] - 0s 2ms/step\n",
            "68/68 [==============================] - 0s 1ms/step\n",
            "68/68 [==============================] - 0s 1ms/step\n"
          ]
        }
      ],
      "source": [
        "regression_results = []\n",
        "\n",
        "for layers in layer_options:\n",
        "    for activations in activation_options:\n",
        "        for optimizer in optimizer_options:\n",
        "            model, history = train_regression_model(layers, activations, optimizer)\n",
        "            y_pred = model.predict(X_test).flatten()\n",
        "\n",
        "            mse = mean_squared_error(y_test, y_pred)\n",
        "            mae = mean_absolute_error(y_test, y_pred)\n",
        "            r2 = r2_score(y_test, y_pred)\n",
        "\n",
        "            regression_results.append({\n",
        "                'layers': layers,\n",
        "                'activations': activations,\n",
        "                'optimizer': optimizer,\n",
        "                'mse': mse,\n",
        "                'mae': mae,\n",
        "                'r2': r2,\n",
        "                'model': model,\n",
        "                'history': history\n",
        "            })"
      ]
    },
    {
      "cell_type": "code",
      "execution_count": 14,
      "metadata": {
        "colab": {
          "base_uri": "https://localhost:8080/"
        },
        "id": "9rI5AM_RE0IM",
        "outputId": "8cfb2439-5773-492f-ecc6-116b4cfeff94"
      },
      "outputs": [
        {
          "output_type": "stream",
          "name": "stdout",
          "text": [
            "The best regressor: layers [64, 32], activations ['relu', 'relu'], optimizer rmsprop\n",
            "MSE: 41587.937964993675\n",
            "MAE: 124.10324236990391\n",
            "R2: 0.9743631348478726\n"
          ]
        }
      ],
      "source": [
        "best_regressor = max(regression_results, key=lambda x: x['r2'])\n",
        "print(f\"The best regressor: layers {best_regressor['layers']}, activations {best_regressor['activations']}, optimizer {best_regressor['optimizer']}\")\n",
        "print(f\"MSE: {best_regressor['mse']}\")\n",
        "print(f\"MAE: {best_regressor['mae']}\")\n",
        "print(f\"R2: {best_regressor['r2']}\")"
      ]
    },
    {
      "cell_type": "code",
      "execution_count": 15,
      "metadata": {
        "colab": {
          "base_uri": "https://localhost:8080/",
          "height": 410
        },
        "id": "Z9RpqhxeE0IN",
        "outputId": "e58821b9-da02-476b-f480-174ef7d1d721"
      },
      "outputs": [
        {
          "output_type": "display_data",
          "data": {
            "text/plain": [
              "<Figure size 600x400 with 1 Axes>"
            ],
            "image/png": "[encoded data removed]"
          },
          "metadata": {}
        }
      ],
      "source": [
        "plt.figure(figsize=(6, 4))\n",
        "plt.plot(best_regressor['history'].history['loss'], label='Training Loss')\n",
        "plt.plot(best_regressor['history'].history['val_loss'], label='Validation Loss')\n",
        "plt.xlabel('Epochs')\n",
        "plt.ylabel('Loss')\n",
        "plt.legend()\n",
        "plt.title('Loss')\n",
        "\n",
        "plt.show()"
      ]
    }
  ],
  "metadata": {
    "colab": {
      "provenance": []
    },
    "kernelspec": {
      "display_name": "Python 3",
      "name": "python3"
    },
    "language_info": {
      "name": "python"
    }
  },
  "nbformat": 4,
  "nbformat_minor": 0
}